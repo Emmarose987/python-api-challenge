{
 "cells": [
  {
   "cell_type": "markdown",
   "metadata": {},
   "source": [
    "# VacationPy\n",
    "----\n",
    "\n",
    "#### Note\n",
    "* Instructions have been included for each segment. You do not have to follow them exactly, but they are included to help you think through the steps."
   ]
  },
  {
   "cell_type": "code",
   "execution_count": 1,
   "metadata": {},
   "outputs": [],
   "source": [
    "# Dependencies and Setup\n",
    "import matplotlib.pyplot as plt\n",
    "import pandas as pd\n",
    "import numpy as np\n",
    "import requests\n",
    "import gmaps\n",
    "import os\n",
    "\n",
    "# Import API key\n",
    "from api_keys import g_key\n"
   ]
  },
  {
   "cell_type": "markdown",
   "metadata": {},
   "source": [
    "### Store Part I results into DataFrame\n",
    "* Load the csv exported in Part I to a DataFrame"
   ]
  },
  {
   "cell_type": "code",
   "execution_count": 2,
   "metadata": {},
   "outputs": [
    {
     "data": {
      "text/html": [
       "<div>\n",
       "<style scoped>\n",
       "    .dataframe tbody tr th:only-of-type {\n",
       "        vertical-align: middle;\n",
       "    }\n",
       "\n",
       "    .dataframe tbody tr th {\n",
       "        vertical-align: top;\n",
       "    }\n",
       "\n",
       "    .dataframe thead th {\n",
       "        text-align: right;\n",
       "    }\n",
       "</style>\n",
       "<table border=\"1\" class=\"dataframe\">\n",
       "  <thead>\n",
       "    <tr style=\"text-align: right;\">\n",
       "      <th></th>\n",
       "      <th>City</th>\n",
       "      <th>Country</th>\n",
       "      <th>Cloudiness</th>\n",
       "      <th>Date</th>\n",
       "      <th>Humidity</th>\n",
       "      <th>Latitude</th>\n",
       "      <th>Longitude</th>\n",
       "      <th>Max Temp</th>\n",
       "      <th>Wind Speed</th>\n",
       "    </tr>\n",
       "  </thead>\n",
       "  <tbody>\n",
       "    <tr>\n",
       "      <td>0</td>\n",
       "      <td>Rikitea</td>\n",
       "      <td>PF</td>\n",
       "      <td>1</td>\n",
       "      <td>1587176746</td>\n",
       "      <td>63</td>\n",
       "      <td>-23.12</td>\n",
       "      <td>-134.97</td>\n",
       "      <td>77.36</td>\n",
       "      <td>1.99</td>\n",
       "    </tr>\n",
       "    <tr>\n",
       "      <td>1</td>\n",
       "      <td>Grants Pass</td>\n",
       "      <td>US</td>\n",
       "      <td>1</td>\n",
       "      <td>1587176780</td>\n",
       "      <td>20</td>\n",
       "      <td>42.44</td>\n",
       "      <td>-123.33</td>\n",
       "      <td>77.00</td>\n",
       "      <td>9.17</td>\n",
       "    </tr>\n",
       "    <tr>\n",
       "      <td>2</td>\n",
       "      <td>Ushuaia</td>\n",
       "      <td>AR</td>\n",
       "      <td>40</td>\n",
       "      <td>1587176866</td>\n",
       "      <td>61</td>\n",
       "      <td>-54.80</td>\n",
       "      <td>-68.30</td>\n",
       "      <td>48.20</td>\n",
       "      <td>8.05</td>\n",
       "    </tr>\n",
       "    <tr>\n",
       "      <td>3</td>\n",
       "      <td>Punta Arenas</td>\n",
       "      <td>CL</td>\n",
       "      <td>14</td>\n",
       "      <td>1587176900</td>\n",
       "      <td>75</td>\n",
       "      <td>-53.15</td>\n",
       "      <td>-70.92</td>\n",
       "      <td>44.60</td>\n",
       "      <td>10.29</td>\n",
       "    </tr>\n",
       "    <tr>\n",
       "      <td>4</td>\n",
       "      <td>Port Elizabeth</td>\n",
       "      <td>ZA</td>\n",
       "      <td>20</td>\n",
       "      <td>1587176900</td>\n",
       "      <td>87</td>\n",
       "      <td>-33.92</td>\n",
       "      <td>25.57</td>\n",
       "      <td>60.80</td>\n",
       "      <td>6.93</td>\n",
       "    </tr>\n",
       "  </tbody>\n",
       "</table>\n",
       "</div>"
      ],
      "text/plain": [
       "             City Country  Cloudiness        Date  Humidity  Latitude  \\\n",
       "0         Rikitea      PF           1  1587176746        63    -23.12   \n",
       "1     Grants Pass      US           1  1587176780        20     42.44   \n",
       "2         Ushuaia      AR          40  1587176866        61    -54.80   \n",
       "3    Punta Arenas      CL          14  1587176900        75    -53.15   \n",
       "4  Port Elizabeth      ZA          20  1587176900        87    -33.92   \n",
       "\n",
       "   Longitude  Max Temp  Wind Speed  \n",
       "0    -134.97     77.36        1.99  \n",
       "1    -123.33     77.00        9.17  \n",
       "2     -68.30     48.20        8.05  \n",
       "3     -70.92     44.60       10.29  \n",
       "4      25.57     60.80        6.93  "
      ]
     },
     "execution_count": 2,
     "metadata": {},
     "output_type": "execute_result"
    }
   ],
   "source": [
    "weather = \"Weather.csv\"\n",
    "weather_df = pd.read_csv(weather)\n",
    "weather_df.head()"
   ]
  },
  {
   "cell_type": "markdown",
   "metadata": {},
   "source": [
    "### Humidity Heatmap\n",
    "* Configure gmaps.\n",
    "* Use the Lat and Lng as locations and Humidity as the weight.\n",
    "* Add Heatmap layer to map."
   ]
  },
  {
   "cell_type": "code",
   "execution_count": 3,
   "metadata": {},
   "outputs": [],
   "source": [
    "gmaps.configure(api_key=g_key)\n",
    "locations = weather_df[[\"Latitude\", \"Longitude\"]]\n",
    "humidity = weather_df[\"Humidity\"].astype(float)\n",
    "max_intensity = weather_df[\"Humidity\"].max()"
   ]
  },
  {
   "cell_type": "code",
   "execution_count": 4,
   "metadata": {},
   "outputs": [
    {
     "data": {
      "application/vnd.jupyter.widget-view+json": {
       "model_id": "e6d9bdd62ced439188154fea30193c42",
       "version_major": 2,
       "version_minor": 0
      },
      "text/plain": [
       "Figure(layout=FigureLayout(height='420px'))"
      ]
     },
     "metadata": {},
     "output_type": "display_data"
    }
   ],
   "source": [
    "fig = gmaps.figure(center=(25,0), zoom_level=1.75)\n",
    "heat_layer = gmaps.heatmap_layer(locations, weights=humidity, max_intensity=max_intensity)\n",
    "fig.add_layer(heat_layer)\n",
    "fig\n"
   ]
  },
  {
   "cell_type": "markdown",
   "metadata": {},
   "source": [
    "### Create new DataFrame fitting weather criteria\n",
    "* Narrow down the cities to fit weather conditions.\n",
    "* Drop any rows will null values."
   ]
  },
  {
   "cell_type": "code",
   "execution_count": 5,
   "metadata": {},
   "outputs": [
    {
     "data": {
      "text/plain": [
       "City          4\n",
       "Country       4\n",
       "Cloudiness    4\n",
       "Date          4\n",
       "Humidity      4\n",
       "Latitude      4\n",
       "Longitude     4\n",
       "Max Temp      4\n",
       "Wind Speed    4\n",
       "dtype: int64"
      ]
     },
     "execution_count": 5,
     "metadata": {},
     "output_type": "execute_result"
    }
   ],
   "source": [
    "fit_df = weather_df.loc[(weather_df[\"Max Temp\"] <80) & (weather_df[\"Wind Speed\"]<2) &\n",
    "                        (weather_df[\"Cloudiness\"]<10)]\n",
    "fit_df.dropna\n",
    "fit_df.count()"
   ]
  },
  {
   "cell_type": "code",
   "execution_count": 6,
   "metadata": {},
   "outputs": [
    {
     "data": {
      "text/html": [
       "<div>\n",
       "<style scoped>\n",
       "    .dataframe tbody tr th:only-of-type {\n",
       "        vertical-align: middle;\n",
       "    }\n",
       "\n",
       "    .dataframe tbody tr th {\n",
       "        vertical-align: top;\n",
       "    }\n",
       "\n",
       "    .dataframe thead th {\n",
       "        text-align: right;\n",
       "    }\n",
       "</style>\n",
       "<table border=\"1\" class=\"dataframe\">\n",
       "  <thead>\n",
       "    <tr style=\"text-align: right;\">\n",
       "      <th></th>\n",
       "      <th>City</th>\n",
       "      <th>Country</th>\n",
       "      <th>Cloudiness</th>\n",
       "      <th>Date</th>\n",
       "      <th>Humidity</th>\n",
       "      <th>Latitude</th>\n",
       "      <th>Longitude</th>\n",
       "      <th>Max Temp</th>\n",
       "      <th>Wind Speed</th>\n",
       "      <th>Hotel Name</th>\n",
       "    </tr>\n",
       "  </thead>\n",
       "  <tbody>\n",
       "    <tr>\n",
       "      <td>0</td>\n",
       "      <td>Rikitea</td>\n",
       "      <td>PF</td>\n",
       "      <td>1</td>\n",
       "      <td>1587176746</td>\n",
       "      <td>63</td>\n",
       "      <td>-23.12</td>\n",
       "      <td>-134.97</td>\n",
       "      <td>77.36</td>\n",
       "      <td>1.99</td>\n",
       "      <td></td>\n",
       "    </tr>\n",
       "    <tr>\n",
       "      <td>1</td>\n",
       "      <td>Tiznit Province</td>\n",
       "      <td>MA</td>\n",
       "      <td>0</td>\n",
       "      <td>1587176911</td>\n",
       "      <td>66</td>\n",
       "      <td>29.58</td>\n",
       "      <td>-9.50</td>\n",
       "      <td>55.06</td>\n",
       "      <td>0.49</td>\n",
       "      <td></td>\n",
       "    </tr>\n",
       "    <tr>\n",
       "      <td>2</td>\n",
       "      <td>Diego de Almagro</td>\n",
       "      <td>CL</td>\n",
       "      <td>0</td>\n",
       "      <td>1587176923</td>\n",
       "      <td>46</td>\n",
       "      <td>-26.37</td>\n",
       "      <td>-70.05</td>\n",
       "      <td>58.35</td>\n",
       "      <td>0.43</td>\n",
       "      <td></td>\n",
       "    </tr>\n",
       "    <tr>\n",
       "      <td>3</td>\n",
       "      <td>Tailai</td>\n",
       "      <td>CN</td>\n",
       "      <td>0</td>\n",
       "      <td>1587176942</td>\n",
       "      <td>37</td>\n",
       "      <td>46.38</td>\n",
       "      <td>123.40</td>\n",
       "      <td>64.99</td>\n",
       "      <td>1.99</td>\n",
       "      <td></td>\n",
       "    </tr>\n",
       "  </tbody>\n",
       "</table>\n",
       "</div>"
      ],
      "text/plain": [
       "               City Country  Cloudiness        Date  Humidity  Latitude  \\\n",
       "0           Rikitea      PF           1  1587176746        63    -23.12   \n",
       "1   Tiznit Province      MA           0  1587176911        66     29.58   \n",
       "2  Diego de Almagro      CL           0  1587176923        46    -26.37   \n",
       "3            Tailai      CN           0  1587176942        37     46.38   \n",
       "\n",
       "   Longitude  Max Temp  Wind Speed Hotel Name  \n",
       "0    -134.97     77.36        1.99             \n",
       "1      -9.50     55.06        0.49             \n",
       "2     -70.05     58.35        0.43             \n",
       "3     123.40     64.99        1.99             "
      ]
     },
     "execution_count": 6,
     "metadata": {},
     "output_type": "execute_result"
    }
   ],
   "source": [
    "hotel_df = fit_df.copy()\n",
    "hotel_df = hotel_df.reset_index()\n",
    "del hotel_df[\"index\"]\n",
    "hotel_df[\"Hotel Name\"] = \"\"\n",
    "hotel_df"
   ]
  },
  {
   "cell_type": "code",
   "execution_count": 9,
   "metadata": {},
   "outputs": [],
   "source": [
    "latitude = hotel_df[\"Latitude\"]\n",
    "longitude = hotel_df[\"Longitude\"]\n",
    "length_i = len(hotel_df)"
   ]
  },
  {
   "cell_type": "code",
   "execution_count": 10,
   "metadata": {},
   "outputs": [
    {
     "name": "stdout",
     "output_type": "stream",
     "text": [
      "Nearest hotel: Pension Maro'i\n",
      "No options available\n",
      "Nearest hotel: Hotel Rocas del Norte\n",
      "Nearest hotel: Baihe Express Hotel\n"
     ]
    }
   ],
   "source": [
    "for i in range(length_i):\n",
    "    base_url = \"https://maps.googleapis.com/maps/api/place/nearbysearch/json\"\n",
    "    params = {\n",
    "        \"location\": f\"{latitude[i]},{longitude[i]}\",\n",
    "        \"radius\": 5000,\n",
    "        \"types\": \"lodging\",\n",
    "        \"keyword\": \"Hotel\",\n",
    "        \"key\": g_key\n",
    "    }\n",
    "    response = requests.get(base_url, params=params).json()\n",
    "    try: \n",
    "        results = response[\"results\"][i][\"name\"]\n",
    "        print(f\"Nearest hotel: {results}\")\n",
    "        hotel_df.loc[hotel_df[\"City\"] == hotel_df[\"City\"][i], \"Hotel Name\"] = results\n",
    "    except IndexError:\n",
    "        print(\"No options available\")"
   ]
  },
  {
   "cell_type": "code",
   "execution_count": 16,
   "metadata": {},
   "outputs": [
    {
     "data": {
      "text/html": [
       "<div>\n",
       "<style scoped>\n",
       "    .dataframe tbody tr th:only-of-type {\n",
       "        vertical-align: middle;\n",
       "    }\n",
       "\n",
       "    .dataframe tbody tr th {\n",
       "        vertical-align: top;\n",
       "    }\n",
       "\n",
       "    .dataframe thead th {\n",
       "        text-align: right;\n",
       "    }\n",
       "</style>\n",
       "<table border=\"1\" class=\"dataframe\">\n",
       "  <thead>\n",
       "    <tr style=\"text-align: right;\">\n",
       "      <th></th>\n",
       "      <th>City</th>\n",
       "      <th>Country</th>\n",
       "      <th>Cloudiness</th>\n",
       "      <th>Date</th>\n",
       "      <th>Humidity</th>\n",
       "      <th>Latitude</th>\n",
       "      <th>Longitude</th>\n",
       "      <th>Max Temp</th>\n",
       "      <th>Wind Speed</th>\n",
       "      <th>Hotel Name</th>\n",
       "    </tr>\n",
       "  </thead>\n",
       "  <tbody>\n",
       "    <tr>\n",
       "      <td>0</td>\n",
       "      <td>Rikitea</td>\n",
       "      <td>PF</td>\n",
       "      <td>1</td>\n",
       "      <td>1587176746</td>\n",
       "      <td>63</td>\n",
       "      <td>-23.12</td>\n",
       "      <td>-134.97</td>\n",
       "      <td>77.36</td>\n",
       "      <td>1.99</td>\n",
       "      <td>Pension Maro'i</td>\n",
       "    </tr>\n",
       "    <tr>\n",
       "      <td>1</td>\n",
       "      <td>Diego de Almagro</td>\n",
       "      <td>CL</td>\n",
       "      <td>0</td>\n",
       "      <td>1587176923</td>\n",
       "      <td>46</td>\n",
       "      <td>-26.37</td>\n",
       "      <td>-70.05</td>\n",
       "      <td>58.35</td>\n",
       "      <td>0.43</td>\n",
       "      <td>Hotel Rocas del Norte</td>\n",
       "    </tr>\n",
       "    <tr>\n",
       "      <td>2</td>\n",
       "      <td>Tailai</td>\n",
       "      <td>CN</td>\n",
       "      <td>0</td>\n",
       "      <td>1587176942</td>\n",
       "      <td>37</td>\n",
       "      <td>46.38</td>\n",
       "      <td>123.40</td>\n",
       "      <td>64.99</td>\n",
       "      <td>1.99</td>\n",
       "      <td>Baihe Express Hotel</td>\n",
       "    </tr>\n",
       "  </tbody>\n",
       "</table>\n",
       "</div>"
      ],
      "text/plain": [
       "               City Country  Cloudiness        Date  Humidity  Latitude  \\\n",
       "0           Rikitea      PF           1  1587176746        63    -23.12   \n",
       "1  Diego de Almagro      CL           0  1587176923        46    -26.37   \n",
       "2            Tailai      CN           0  1587176942        37     46.38   \n",
       "\n",
       "   Longitude  Max Temp  Wind Speed             Hotel Name  \n",
       "0    -134.97     77.36        1.99         Pension Maro'i  \n",
       "1     -70.05     58.35        0.43  Hotel Rocas del Norte  \n",
       "2     123.40     64.99        1.99    Baihe Express Hotel  "
      ]
     },
     "execution_count": 16,
     "metadata": {},
     "output_type": "execute_result"
    }
   ],
   "source": [
    "hotel_df = hotel_df[hotel_df[\"Hotel Name\"] != \"\"]\n",
    "hotel_df = hotel_df.reset_index()\n",
    "del hotel_df[\"index\"]\n",
    "hotel_df"
   ]
  },
  {
   "cell_type": "code",
   "execution_count": 17,
   "metadata": {},
   "outputs": [],
   "source": [
    "# NOTE: Do not change any of the code in this cell\n",
    "# Using the template add the hotel marks to the heatmap\n",
    "info_box_template = \"\"\"\n",
    "<dl>\n",
    "<dt>Name</dt><dd>{Hotel Name}</dd>\n",
    "<dt>City</dt><dd>{City}</dd>\n",
    "<dt>Country</dt><dd>{Country}</dd>\n",
    "</dl>\n",
    "\"\"\"\n",
    "# Store the DataFrame Row\n",
    "# NOTE: be sure to update with your DataFrame name\n",
    "hotel_info = [info_box_template.format(**row) for index, row in hotel_df.iterrows()]\n",
    "locations = hotel_df[[\"Latitude\", \"Longitude\"]]"
   ]
  },
  {
   "cell_type": "code",
   "execution_count": 18,
   "metadata": {},
   "outputs": [
    {
     "data": {
      "application/vnd.jupyter.widget-view+json": {
       "model_id": "e6d9bdd62ced439188154fea30193c42",
       "version_major": 2,
       "version_minor": 0
      },
      "text/plain": [
       "Figure(layout=FigureLayout(height='420px'))"
      ]
     },
     "metadata": {},
     "output_type": "display_data"
    }
   ],
   "source": [
    "markers = gmaps.marker_layer(locations, info_box_content= hotel_info)\n",
    "fig.add_layer(markers)\n",
    "fig\n"
   ]
  }
 ],
 "metadata": {
  "kernelspec": {
   "display_name": "Python 3",
   "language": "python",
   "name": "python3"
  },
  "language_info": {
   "codemirror_mode": {
    "name": "ipython",
    "version": 3
   },
   "file_extension": ".py",
   "mimetype": "text/x-python",
   "name": "python",
   "nbconvert_exporter": "python",
   "pygments_lexer": "ipython3",
   "version": "3.7.4"
  },
  "latex_envs": {
   "LaTeX_envs_menu_present": true,
   "autoclose": false,
   "autocomplete": true,
   "bibliofile": "biblio.bib",
   "cite_by": "apalike",
   "current_citInitial": 1,
   "eqLabelWithNumbers": true,
   "eqNumInitial": 1,
   "hotkeys": {
    "equation": "Ctrl-E",
    "itemize": "Ctrl-I"
   },
   "labels_anchors": false,
   "latex_user_defs": false,
   "report_style_numbering": false,
   "user_envs_cfg": false
  }
 },
 "nbformat": 4,
 "nbformat_minor": 2
}
